{
 "cells": [
  {
   "cell_type": "code",
   "execution_count": 13,
   "metadata": {},
   "outputs": [],
   "source": [
    "import tensorflow as tf\n",
    "import numpy as np\n",
    "import matplotlib.pyplot as plt\n",
    "import bentoml\n",
    "import PIL.Image\n",
    "import keras_tuner as kt\n",
    "import ast"
   ]
  },
  {
   "cell_type": "code",
   "execution_count": 14,
   "metadata": {},
   "outputs": [],
   "source": [
    "fmnist = tf.keras.datasets.fashion_mnist"
   ]
  },
  {
   "cell_type": "code",
   "execution_count": 15,
   "metadata": {},
   "outputs": [],
   "source": [
    "fmnist_labels = [\"T-shirt/top\", \"Trouser\", \"Pullover\", \"Dress\", \"Coat\", \"Sandal\", \"Shirt\", \"Sneaker\",\n",
    "\"Bag\", \"Ankle boot\"]"
   ]
  },
  {
   "cell_type": "code",
   "execution_count": 16,
   "metadata": {},
   "outputs": [],
   "source": [
    "(training_images, training_labels), (test_images, test_labels) = fmnist.load_data()"
   ]
  },
  {
   "cell_type": "code",
   "execution_count": 17,
   "metadata": {},
   "outputs": [],
   "source": [
    "training_images_hp = np.concatenate([training_images, test_images])\n",
    "training_labels_hp = np.concatenate([training_labels, test_labels])\n",
    "training_images_hp = np.expand_dims(training_images_hp,3)\n",
    "training_images_hp = training_images_hp.astype('float32') / 255.0"
   ]
  },
  {
   "cell_type": "code",
   "execution_count": 18,
   "metadata": {},
   "outputs": [
    {
     "data": {
      "text/plain": [
       "(60000, 28, 28)"
      ]
     },
     "execution_count": 18,
     "metadata": {},
     "output_type": "execute_result"
    }
   ],
   "source": [
    "training_images.shape"
   ]
  },
  {
   "cell_type": "code",
   "execution_count": 19,
   "metadata": {},
   "outputs": [],
   "source": [
    "training_images = np.expand_dims(training_images,3)\n",
    "test_images = np.expand_dims(test_images, 3)"
   ]
  },
  {
   "cell_type": "code",
   "execution_count": 20,
   "metadata": {},
   "outputs": [],
   "source": [
    "training_images = training_images.astype('float32') / 255.0\n",
    "test_images = test_images.astype('float32') / 255.0"
   ]
  },
  {
   "cell_type": "code",
   "execution_count": 21,
   "metadata": {},
   "outputs": [],
   "source": [
    "def model_builder(hp):\n",
    "  model = tf.keras.Sequential()\n",
    "\n",
    "  filters_1 = hp.Int('conv2D_1_units', min_value=8, max_value=128, step=8)\n",
    "  kernel_size_choice_1 = hp.Choice('conv2D_1_kernel_size', ['(2,2)','(3,3)','(4,4)'])\n",
    "  kernel_size_1 = ast.literal_eval(kernel_size_choice_1)\n",
    "  activation_1 = hp.Choice('conv2D_1_activation', ['relu','elu'])\n",
    "  model.add(tf.keras.layers.Conv2D(filters=filters_1, \n",
    "                                   kernel_size=kernel_size_1, \n",
    "                                   activation=activation_1, \n",
    "                                   input_shape=(28, 28,1)))\n",
    "  model.add(tf.keras.layers.MaxPool2D(2,2))\n",
    "\n",
    "  filters_2 = hp.Int('conv2D_2_units', min_value=8, max_value=128, step=8)\n",
    "  kernel_size_choice_2 = hp.Choice('conv2D_2_kernel_size', ['(2,2)','(3,3)','(4,4)'])\n",
    "  kernel_size_2 = ast.literal_eval(kernel_size_choice_2)\n",
    "  activation_2 = hp.Choice('conv2D_2_activation', ['relu','elu'])\n",
    "  model.add(tf.keras.layers.Conv2D(\n",
    "                                    filters=filters_2, \n",
    "                                    kernel_size=kernel_size_2, \n",
    "                                    activation=activation_2\n",
    "  ))\n",
    "  model.add(tf.keras.layers.MaxPool2D(2,2))\n",
    "\n",
    "  model.add(tf.keras.layers.Flatten())\n",
    "\n",
    "  # Tune the number of units in the first Dense layer\n",
    "  # Choose an optimal value between 32-512\n",
    "  hp_units = hp.Int('units', min_value=32, max_value=512, step=32)  \n",
    "  model.add(tf.keras.layers.Dense(units=hp_units, activation='relu'))\n",
    "  model.add(tf.keras.layers.Dense(10))\n",
    "\n",
    "  # Tune the learning rate for the optimizer\n",
    "  # Choose an optimal value from 0.01, 0.001, or 0.0001\n",
    "  hp_learning_rate = hp.Choice('learning_rate', values=[1e-2, 1e-3, 1e-4])\n",
    "\n",
    "  model.compile(optimizer=tf.keras.optimizers.Adam(learning_rate=hp_learning_rate),\n",
    "                loss=tf.keras.losses.SparseCategoricalCrossentropy(from_logits=True),\n",
    "                metrics=['accuracy'])\n",
    "\n",
    "  return model"
   ]
  },
  {
   "cell_type": "code",
   "execution_count": 22,
   "metadata": {},
   "outputs": [
    {
     "name": "stdout",
     "output_type": "stream",
     "text": [
      "Reloading Tuner from my_dir/space_search_fmnist/tuner0.json\n"
     ]
    }
   ],
   "source": [
    "tuner = kt.Hyperband(model_builder,\n",
    "                     objective='val_accuracy',\n",
    "                     max_epochs=30,\n",
    "                     factor=3,\n",
    "                     directory='my_dir',\n",
    "                     project_name='space_search_fmnist',\n",
    "                     )"
   ]
  },
  {
   "cell_type": "code",
   "execution_count": 23,
   "metadata": {},
   "outputs": [],
   "source": [
    "stop_early = tf.keras.callbacks.EarlyStopping(monitor='val_loss', patience=10)"
   ]
  },
  {
   "cell_type": "code",
   "execution_count": 24,
   "metadata": {},
   "outputs": [
    {
     "name": "stdout",
     "output_type": "stream",
     "text": [
      "Trial 90 Complete [00h 04m 05s]\n",
      "val_accuracy: 0.8743333220481873\n",
      "\n",
      "Best val_accuracy So Far: 0.9200000166893005\n",
      "Total elapsed time: 01h 11m 01s\n",
      "\n",
      "The hyperparameter search is complete. The optimal number of units in the first densely-connected\n",
      "layer is 288 and the optimal learning rate for the optimizer\n",
      "is 0.001.\n",
      "\n",
      "The other best hyperparameters are:\n",
      "conv2D_1_units: 72\n",
      "conv2D_1_kernel_size: (3,3)\n",
      "conv2D_1_activation: relu\n",
      "conv2D_2_kernel_size: (4,4)\n",
      "conv2D_2_activation: relu\n",
      "\n"
     ]
    }
   ],
   "source": [
    "tuner.search(training_images_hp, training_labels_hp, epochs=50, validation_split=0.3, callbacks=[stop_early])\n",
    "\n",
    "# Get the optimal hyperparameters\n",
    "best_hps=tuner.get_best_hyperparameters(num_trials=1)[0]\n",
    "\n",
    "print(f\"\"\"\n",
    "The hyperparameter search is complete. The optimal number of units in the first densely-connected\n",
    "layer is {best_hps.get('units')} and the optimal learning rate for the optimizer\n",
    "is {best_hps.get('learning_rate')}.\n",
    "\n",
    "The other best hyperparameters are:\n",
    "conv2D_1_units: {best_hps.get('conv2D_1_units')}\n",
    "conv2D_1_kernel_size: {best_hps.get('conv2D_1_kernel_size')}\n",
    "conv2D_1_activation: {best_hps.get('conv2D_1_activation')}\n",
    "conv2D_2_kernel_size: {best_hps.get('conv2D_2_kernel_size')}\n",
    "conv2D_2_activation: {best_hps.get('conv2D_2_activation')}\n",
    "\"\"\")"
   ]
  },
  {
   "cell_type": "code",
   "execution_count": 25,
   "metadata": {},
   "outputs": [
    {
     "name": "stdout",
     "output_type": "stream",
     "text": [
      "Epoch 1/50\n",
      "1500/1500 [==============================] - 8s 5ms/step - loss: 0.4319 - accuracy: 0.8435 - val_loss: 0.3041 - val_accuracy: 0.8873\n",
      "Epoch 2/50\n",
      "1500/1500 [==============================] - 7s 4ms/step - loss: 0.2791 - accuracy: 0.8978 - val_loss: 0.2661 - val_accuracy: 0.9020\n",
      "Epoch 3/50\n",
      "1500/1500 [==============================] - 6s 4ms/step - loss: 0.2312 - accuracy: 0.9136 - val_loss: 0.2533 - val_accuracy: 0.9074\n",
      "Epoch 4/50\n",
      "1500/1500 [==============================] - 6s 4ms/step - loss: 0.1977 - accuracy: 0.9277 - val_loss: 0.2320 - val_accuracy: 0.9172\n",
      "Epoch 5/50\n",
      "1500/1500 [==============================] - 6s 4ms/step - loss: 0.1684 - accuracy: 0.9378 - val_loss: 0.2638 - val_accuracy: 0.9018\n",
      "Epoch 6/50\n",
      "1500/1500 [==============================] - 6s 4ms/step - loss: 0.1447 - accuracy: 0.9451 - val_loss: 0.2667 - val_accuracy: 0.9077\n",
      "Epoch 7/50\n",
      "1500/1500 [==============================] - 6s 4ms/step - loss: 0.1194 - accuracy: 0.9550 - val_loss: 0.2557 - val_accuracy: 0.9174\n",
      "Epoch 8/50\n",
      "1500/1500 [==============================] - 6s 4ms/step - loss: 0.0999 - accuracy: 0.9620 - val_loss: 0.2533 - val_accuracy: 0.9171\n",
      "Epoch 9/50\n",
      "1500/1500 [==============================] - 6s 4ms/step - loss: 0.0853 - accuracy: 0.9686 - val_loss: 0.2977 - val_accuracy: 0.9187\n",
      "Epoch 10/50\n",
      "1500/1500 [==============================] - 6s 4ms/step - loss: 0.0751 - accuracy: 0.9716 - val_loss: 0.3109 - val_accuracy: 0.9142\n",
      "Epoch 11/50\n",
      "1500/1500 [==============================] - 6s 4ms/step - loss: 0.0618 - accuracy: 0.9763 - val_loss: 0.3178 - val_accuracy: 0.9181\n",
      "Epoch 12/50\n",
      "1500/1500 [==============================] - 6s 4ms/step - loss: 0.0534 - accuracy: 0.9804 - val_loss: 0.3312 - val_accuracy: 0.9193\n",
      "Epoch 13/50\n",
      "1500/1500 [==============================] - 6s 4ms/step - loss: 0.0470 - accuracy: 0.9827 - val_loss: 0.3503 - val_accuracy: 0.9211\n",
      "Epoch 14/50\n",
      "1500/1500 [==============================] - 6s 4ms/step - loss: 0.0389 - accuracy: 0.9857 - val_loss: 0.3762 - val_accuracy: 0.9173\n",
      "Epoch 15/50\n",
      "1500/1500 [==============================] - 6s 4ms/step - loss: 0.0385 - accuracy: 0.9859 - val_loss: 0.4077 - val_accuracy: 0.9168\n",
      "Epoch 16/50\n",
      "1500/1500 [==============================] - 7s 5ms/step - loss: 0.0334 - accuracy: 0.9881 - val_loss: 0.4621 - val_accuracy: 0.9149\n",
      "Epoch 17/50\n",
      "1500/1500 [==============================] - 6s 4ms/step - loss: 0.0290 - accuracy: 0.9890 - val_loss: 0.4391 - val_accuracy: 0.9197\n",
      "Epoch 18/50\n",
      "1500/1500 [==============================] - 6s 4ms/step - loss: 0.0327 - accuracy: 0.9881 - val_loss: 0.4750 - val_accuracy: 0.9204\n",
      "Epoch 19/50\n",
      "1500/1500 [==============================] - 6s 4ms/step - loss: 0.0259 - accuracy: 0.9909 - val_loss: 0.4964 - val_accuracy: 0.9132\n",
      "Epoch 20/50\n",
      "1500/1500 [==============================] - 7s 4ms/step - loss: 0.0289 - accuracy: 0.9894 - val_loss: 0.4593 - val_accuracy: 0.9172\n",
      "Epoch 21/50\n",
      "1500/1500 [==============================] - 7s 5ms/step - loss: 0.0230 - accuracy: 0.9916 - val_loss: 0.5324 - val_accuracy: 0.9175\n",
      "Epoch 22/50\n",
      "1500/1500 [==============================] - 7s 5ms/step - loss: 0.0244 - accuracy: 0.9917 - val_loss: 0.5130 - val_accuracy: 0.9197\n",
      "Epoch 23/50\n",
      "1500/1500 [==============================] - 7s 5ms/step - loss: 0.0198 - accuracy: 0.9928 - val_loss: 0.5648 - val_accuracy: 0.9138\n",
      "Epoch 24/50\n",
      "1500/1500 [==============================] - 7s 4ms/step - loss: 0.0212 - accuracy: 0.9924 - val_loss: 0.5742 - val_accuracy: 0.9107\n",
      "Epoch 25/50\n",
      "1500/1500 [==============================] - 7s 5ms/step - loss: 0.0227 - accuracy: 0.9920 - val_loss: 0.5746 - val_accuracy: 0.9167\n",
      "Epoch 26/50\n",
      "1500/1500 [==============================] - 6s 4ms/step - loss: 0.0260 - accuracy: 0.9913 - val_loss: 0.6032 - val_accuracy: 0.9172\n",
      "Epoch 27/50\n",
      "1500/1500 [==============================] - 6s 4ms/step - loss: 0.0207 - accuracy: 0.9930 - val_loss: 0.5643 - val_accuracy: 0.9204\n",
      "Epoch 28/50\n",
      "1500/1500 [==============================] - 6s 4ms/step - loss: 0.0186 - accuracy: 0.9939 - val_loss: 0.6201 - val_accuracy: 0.9114\n",
      "Epoch 29/50\n",
      "1500/1500 [==============================] - 6s 4ms/step - loss: 0.0189 - accuracy: 0.9937 - val_loss: 0.6359 - val_accuracy: 0.9135\n",
      "Epoch 30/50\n",
      "1500/1500 [==============================] - 6s 4ms/step - loss: 0.0183 - accuracy: 0.9938 - val_loss: 0.7377 - val_accuracy: 0.9088\n",
      "Epoch 31/50\n",
      "1500/1500 [==============================] - 7s 5ms/step - loss: 0.0222 - accuracy: 0.9927 - val_loss: 0.7335 - val_accuracy: 0.9142\n",
      "Epoch 32/50\n",
      "1500/1500 [==============================] - 7s 5ms/step - loss: 0.0133 - accuracy: 0.9958 - val_loss: 0.6612 - val_accuracy: 0.9177\n",
      "Epoch 33/50\n",
      "1500/1500 [==============================] - 7s 5ms/step - loss: 0.0207 - accuracy: 0.9936 - val_loss: 0.7018 - val_accuracy: 0.9087\n",
      "Epoch 34/50\n",
      "1500/1500 [==============================] - 7s 4ms/step - loss: 0.0136 - accuracy: 0.9956 - val_loss: 0.6710 - val_accuracy: 0.9178\n",
      "Epoch 35/50\n",
      "1500/1500 [==============================] - 6s 4ms/step - loss: 0.0198 - accuracy: 0.9940 - val_loss: 0.7038 - val_accuracy: 0.9154\n",
      "Epoch 36/50\n",
      "1500/1500 [==============================] - 6s 4ms/step - loss: 0.0183 - accuracy: 0.9943 - val_loss: 0.7976 - val_accuracy: 0.9141\n",
      "Epoch 37/50\n",
      "1500/1500 [==============================] - 7s 4ms/step - loss: 0.0111 - accuracy: 0.9963 - val_loss: 0.6919 - val_accuracy: 0.9169\n",
      "Epoch 38/50\n",
      "1500/1500 [==============================] - 6s 4ms/step - loss: 0.0191 - accuracy: 0.9944 - val_loss: 0.7156 - val_accuracy: 0.9131\n",
      "Epoch 39/50\n",
      "1500/1500 [==============================] - 7s 4ms/step - loss: 0.0116 - accuracy: 0.9961 - val_loss: 0.8314 - val_accuracy: 0.9183\n",
      "Epoch 40/50\n",
      "1500/1500 [==============================] - 6s 4ms/step - loss: 0.0203 - accuracy: 0.9937 - val_loss: 0.7899 - val_accuracy: 0.9200\n",
      "Epoch 41/50\n",
      "1500/1500 [==============================] - 6s 4ms/step - loss: 0.0114 - accuracy: 0.9965 - val_loss: 0.7847 - val_accuracy: 0.9168\n",
      "Epoch 42/50\n",
      "1500/1500 [==============================] - 7s 4ms/step - loss: 0.0170 - accuracy: 0.9941 - val_loss: 0.8289 - val_accuracy: 0.9168\n",
      "Epoch 43/50\n",
      "1500/1500 [==============================] - 7s 5ms/step - loss: 0.0182 - accuracy: 0.9942 - val_loss: 0.8413 - val_accuracy: 0.9155\n",
      "Epoch 44/50\n",
      "1500/1500 [==============================] - 6s 4ms/step - loss: 0.0136 - accuracy: 0.9960 - val_loss: 0.8207 - val_accuracy: 0.9200\n",
      "Epoch 45/50\n",
      "1500/1500 [==============================] - 6s 4ms/step - loss: 0.0175 - accuracy: 0.9947 - val_loss: 0.8446 - val_accuracy: 0.9127\n",
      "Epoch 46/50\n",
      "1500/1500 [==============================] - 6s 4ms/step - loss: 0.0130 - accuracy: 0.9958 - val_loss: 0.8436 - val_accuracy: 0.9179\n",
      "Epoch 47/50\n",
      "1500/1500 [==============================] - 6s 4ms/step - loss: 0.0136 - accuracy: 0.9956 - val_loss: 0.9751 - val_accuracy: 0.9168\n",
      "Epoch 48/50\n",
      "1500/1500 [==============================] - 6s 4ms/step - loss: 0.0110 - accuracy: 0.9967 - val_loss: 0.9299 - val_accuracy: 0.9158\n",
      "Epoch 49/50\n",
      "1500/1500 [==============================] - 6s 4ms/step - loss: 0.0191 - accuracy: 0.9948 - val_loss: 0.8988 - val_accuracy: 0.9159\n",
      "Epoch 50/50\n",
      "1500/1500 [==============================] - 6s 4ms/step - loss: 0.0138 - accuracy: 0.9960 - val_loss: 0.9064 - val_accuracy: 0.9155\n",
      "Best epoch: 13\n"
     ]
    }
   ],
   "source": [
    "# Build the model with the optimal hyperparameters and train it on the data for 50 epochs\n",
    "model = tuner.hypermodel.build(best_hps)\n",
    "history = model.fit(training_images, training_labels, epochs=50, validation_split=0.2)\n",
    "\n",
    "val_acc_per_epoch = history.history['val_accuracy']\n",
    "best_epoch = val_acc_per_epoch.index(max(val_acc_per_epoch)) + 1\n",
    "print('Best epoch: %d' % (best_epoch,))"
   ]
  },
  {
   "cell_type": "code",
   "execution_count": 26,
   "metadata": {},
   "outputs": [
    {
     "name": "stdout",
     "output_type": "stream",
     "text": [
      "Epoch 1/13\n",
      "1500/1500 [==============================] - 7s 4ms/step - loss: 0.4177 - accuracy: 0.8480 - val_loss: 0.3095 - val_accuracy: 0.8895\n",
      "Epoch 2/13\n",
      "1500/1500 [==============================] - 6s 4ms/step - loss: 0.2749 - accuracy: 0.8988 - val_loss: 0.2732 - val_accuracy: 0.9056\n",
      "Epoch 3/13\n",
      "1500/1500 [==============================] - 6s 4ms/step - loss: 0.2270 - accuracy: 0.9153 - val_loss: 0.2379 - val_accuracy: 0.9146\n",
      "Epoch 4/13\n",
      "1500/1500 [==============================] - 6s 4ms/step - loss: 0.1906 - accuracy: 0.9290 - val_loss: 0.2225 - val_accuracy: 0.9182\n",
      "Epoch 5/13\n",
      "1500/1500 [==============================] - 6s 4ms/step - loss: 0.1599 - accuracy: 0.9403 - val_loss: 0.2266 - val_accuracy: 0.9197\n",
      "Epoch 6/13\n",
      "1500/1500 [==============================] - 6s 4ms/step - loss: 0.1344 - accuracy: 0.9496 - val_loss: 0.2417 - val_accuracy: 0.9193\n",
      "Epoch 7/13\n",
      "1500/1500 [==============================] - 6s 4ms/step - loss: 0.1110 - accuracy: 0.9576 - val_loss: 0.2916 - val_accuracy: 0.9116\n",
      "Epoch 8/13\n",
      "1500/1500 [==============================] - 6s 4ms/step - loss: 0.0927 - accuracy: 0.9654 - val_loss: 0.2734 - val_accuracy: 0.9203\n",
      "Epoch 9/13\n",
      "1500/1500 [==============================] - 6s 4ms/step - loss: 0.0791 - accuracy: 0.9710 - val_loss: 0.2732 - val_accuracy: 0.9210\n",
      "Epoch 10/13\n",
      "1500/1500 [==============================] - 6s 4ms/step - loss: 0.0634 - accuracy: 0.9756 - val_loss: 0.2892 - val_accuracy: 0.9238\n",
      "Epoch 11/13\n",
      "1500/1500 [==============================] - 6s 4ms/step - loss: 0.0567 - accuracy: 0.9790 - val_loss: 0.3451 - val_accuracy: 0.9143\n",
      "Epoch 12/13\n",
      "1500/1500 [==============================] - 6s 4ms/step - loss: 0.0489 - accuracy: 0.9820 - val_loss: 0.3546 - val_accuracy: 0.9174\n",
      "Epoch 13/13\n",
      "1500/1500 [==============================] - 6s 4ms/step - loss: 0.0417 - accuracy: 0.9845 - val_loss: 0.4197 - val_accuracy: 0.9116\n"
     ]
    },
    {
     "data": {
      "text/plain": [
       "<keras.src.callbacks.History at 0x7fbfbee91780>"
      ]
     },
     "execution_count": 26,
     "metadata": {},
     "output_type": "execute_result"
    }
   ],
   "source": [
    "hypermodel = tuner.hypermodel.build(best_hps)\n",
    "\n",
    "# Retrain the model\n",
    "hypermodel.fit(training_images, training_labels, epochs=best_epoch, validation_split=0.2)"
   ]
  },
  {
   "cell_type": "code",
   "execution_count": 27,
   "metadata": {},
   "outputs": [
    {
     "name": "stdout",
     "output_type": "stream",
     "text": [
      "313/313 [==============================] - 1s 3ms/step - loss: 0.4590 - accuracy: 0.9062\n",
      "[test loss, test accuracy]: [0.4589552879333496, 0.9061999917030334]\n"
     ]
    }
   ],
   "source": [
    "eval_result = hypermodel.evaluate(test_images, test_labels)\n",
    "print(\"[test loss, test accuracy]:\", eval_result)"
   ]
  },
  {
   "cell_type": "code",
   "execution_count": 28,
   "metadata": {},
   "outputs": [],
   "source": [
    "#training_images = training_images / 255.0\n",
    "#test_images = test_images / 255.0"
   ]
  },
  {
   "cell_type": "code",
   "execution_count": 29,
   "metadata": {},
   "outputs": [],
   "source": [
    "idx = 3"
   ]
  },
  {
   "cell_type": "code",
   "execution_count": 30,
   "metadata": {},
   "outputs": [
    {
     "data": {
      "text/plain": [
       "1"
      ]
     },
     "execution_count": 30,
     "metadata": {},
     "output_type": "execute_result"
    }
   ],
   "source": [
    "test_labels[idx]"
   ]
  },
  {
   "cell_type": "code",
   "execution_count": 31,
   "metadata": {},
   "outputs": [
    {
     "name": "stdout",
     "output_type": "stream",
     "text": [
      "313/313 [==============================] - 1s 2ms/step\n"
     ]
    }
   ],
   "source": [
    "predictions = hypermodel.predict(test_images)"
   ]
  },
  {
   "cell_type": "code",
   "execution_count": 32,
   "metadata": {},
   "outputs": [
    {
     "data": {
      "text/plain": [
       "array([-15.016689,  40.784496, -26.825325, -17.81748 , -19.957901,\n",
       "       -37.37099 , -26.921762, -49.70449 , -21.71952 , -51.09468 ],\n",
       "      dtype=float32)"
      ]
     },
     "execution_count": 32,
     "metadata": {},
     "output_type": "execute_result"
    }
   ],
   "source": [
    "predictions[idx]"
   ]
  },
  {
   "cell_type": "markdown",
   "metadata": {},
   "source": [
    "##### bentoml"
   ]
  },
  {
   "cell_type": "code",
   "execution_count": 33,
   "metadata": {},
   "outputs": [
    {
     "name": "stdout",
     "output_type": "stream",
     "text": [
      "INFO:tensorflow:Assets written to: /tmp/tmp7ryrkoi8bentoml_model_tensorflow_mnist/assets\n"
     ]
    },
    {
     "name": "stderr",
     "output_type": "stream",
     "text": [
      "INFO:tensorflow:Assets written to: /tmp/tmp7ryrkoi8bentoml_model_tensorflow_mnist/assets\n"
     ]
    },
    {
     "data": {
      "text/plain": [
       "Model(tag=\"tensorflow_mnist:mqzdfyf5gwlyo65h\", path=\"/home/shivd/bentoml/models/tensorflow_mnist/mqzdfyf5gwlyo65h/\")"
      ]
     },
     "execution_count": 33,
     "metadata": {},
     "output_type": "execute_result"
    }
   ],
   "source": [
    "bentoml.tensorflow.save_model(\n",
    "        \"tensorflow_mnist\",\n",
    "        hypermodel,\n",
    "        signatures={\"__call__\": {\"batchable\": True}},\n",
    "    )"
   ]
  },
  {
   "cell_type": "code",
   "execution_count": 34,
   "metadata": {},
   "outputs": [
    {
     "name": "stdout",
     "output_type": "stream",
     "text": [
      "-15.016689\n",
      "40.784496\n",
      "-26.825325\n",
      "-17.81748\n",
      "-19.957901\n",
      "-37.37099\n",
      "-26.921762\n",
      "-49.70449\n",
      "-21.71952\n",
      "-51.09468\n"
     ]
    }
   ],
   "source": [
    "for probabilities in predictions[idx]:\n",
    "    print(probabilities)"
   ]
  },
  {
   "cell_type": "code",
   "execution_count": 35,
   "metadata": {},
   "outputs": [
    {
     "data": {
      "text/plain": [
       "1"
      ]
     },
     "execution_count": 35,
     "metadata": {},
     "output_type": "execute_result"
    }
   ],
   "source": [
    "np.argmax(predictions[idx])"
   ]
  },
  {
   "cell_type": "code",
   "execution_count": 36,
   "metadata": {},
   "outputs": [],
   "source": [
    "arr2 = [[\n",
    "  -3.198530435562134, 1.6114776134490967, -11.543634414672852, -3.5252628326416016, -13.409090995788574, -26.33955955505371, -8.084063529968262, -32.91557693481445, -7.290429592132568, -22.427976608276367\n",
    "]]"
   ]
  },
  {
   "cell_type": "code",
   "execution_count": 37,
   "metadata": {},
   "outputs": [],
   "source": [
    "arr2 = np.array(arr2)"
   ]
  },
  {
   "cell_type": "code",
   "execution_count": 38,
   "metadata": {},
   "outputs": [
    {
     "data": {
      "text/plain": [
       "1"
      ]
     },
     "execution_count": 38,
     "metadata": {},
     "output_type": "execute_result"
    }
   ],
   "source": [
    "np.argmax(arr2)"
   ]
  },
  {
   "cell_type": "code",
   "execution_count": 44,
   "metadata": {},
   "outputs": [
    {
     "data": {
      "image/png": "[encoded data removed]",
      "text/plain": [
       "<Figure size 2000x800 with 15 Axes>"
      ]
     },
     "metadata": {},
     "output_type": "display_data"
    }
   ],
   "source": [
    "# y_hat = model.predict(test_images)\n",
    "\n",
    "# Plot a random sample of 10 test images, their predicted labels and ground truth\n",
    "figure = plt.figure(figsize=(20, 8))\n",
    "for i, index in enumerate(np.random.choice(test_images.shape[0], size=15, replace=False)):\n",
    "    ax = figure.add_subplot(3, 5, i + 1, xticks=[], yticks=[])\n",
    "    # Display each image\n",
    "    ax.imshow(np.squeeze(test_images[index]))\n",
    "    predict_index = np.argmax(predictions[index])\n",
    "    true_index = np.argmax(test_labels[index])\n",
    "    # true_index = index\n",
    "    # Set the title for each image\n",
    "    ax.set_title(\"{} ({})\".format(fmnist_labels[predict_index], \n",
    "                                  fmnist_labels[true_index]),\n",
    "                                  color=(\"green\" if predict_index == true_index else \"red\"))"
   ]
  },
  {
   "cell_type": "code",
   "execution_count": null,
   "metadata": {},
   "outputs": [],
   "source": []
  }
 ],
 "metadata": {
  "kernelspec": {
   "display_name": "Python 3 (ipykernel)",
   "language": "python",
   "name": "python3"
  },
  "language_info": {
   "codemirror_mode": {
    "name": "ipython",
    "version": 3
   },
   "file_extension": ".py",
   "mimetype": "text/x-python",
   "name": "python",
   "nbconvert_exporter": "python",
   "pygments_lexer": "ipython3",
   "version": "3.10.12"
  }
 },
 "nbformat": 4,
 "nbformat_minor": 2
}
